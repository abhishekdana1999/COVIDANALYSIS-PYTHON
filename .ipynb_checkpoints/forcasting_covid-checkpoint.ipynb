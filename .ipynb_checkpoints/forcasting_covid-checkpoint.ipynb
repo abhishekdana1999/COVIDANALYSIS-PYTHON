{
  "nbformat": 4,
  "nbformat_minor": 0,
  "metadata": {
    "colab": {
      "name": "forcasting covid.ipynb",
      "provenance": []
    },
    "kernelspec": {
      "name": "python3",
      "display_name": "Python 3"
    }
  },
  "cells": [
    {
      "cell_type": "code",
      "metadata": {
        "id": "fx38d621IuyP",
        "colab_type": "code",
        "colab": {}
      },
      "source": [
        "import pandas as pd\n",
        "import fbprophet as fbp \n",
        "import matplotlib.pyplot as plt"
      ],
      "execution_count": 0,
      "outputs": []
    },
    {
      "cell_type": "code",
      "metadata": {
        "id": "B141QnkNNcIv",
        "colab_type": "code",
        "colab": {
          "base_uri": "https://localhost:8080/",
          "height": 17
        },
        "outputId": "80f13d5c-0570-413c-b315-38c360428590"
      },
      "source": [
        ""
      ],
      "execution_count": 43,
      "outputs": [
        {
          "output_type": "display_data",
          "data": {
            "text/html": [
              "        <script type=\"text/javascript\">\n",
              "        window.PlotlyConfig = {MathJaxConfig: 'local'};\n",
              "        if (window.MathJax) {MathJax.Hub.Config({SVG: {font: \"STIX-Web\"}});}\n",
              "        if (typeof require !== 'undefined') {\n",
              "        require.undef(\"plotly\");\n",
              "        requirejs.config({\n",
              "            paths: {\n",
              "                'plotly': ['https://cdn.plot.ly/plotly-latest.min']\n",
              "            }\n",
              "        });\n",
              "        require(['plotly'], function(Plotly) {\n",
              "            window._Plotly = Plotly;\n",
              "        });\n",
              "        }\n",
              "        </script>\n",
              "        "
            ]
          },
          "metadata": {
            "tags": []
          }
        }
      ]
    },
    {
      "cell_type": "code",
      "metadata": {
        "id": "t1EI5bdUJLdm",
        "colab_type": "code",
        "colab": {}
      },
      "source": [
        "confirmUrl = \"https://data.humdata.org/hxlproxy/api/data-preview.csv?url=https%3A%2F%2Fraw.githubusercontent.com%2FCSSEGISandData%2FCOVID-19%2Fmaster%2Fcsse_covid_19_data%2Fcsse_covid_19_time_series%2Ftime_series_covid19_confirmed_global.csv&filename=time_series_covid19_confirmed_global.csv\"\n",
        "deathUrl = \"https://data.humdata.org/hxlproxy/api/data-preview.csv?url=https%3A%2F%2Fraw.githubusercontent.com%2FCSSEGISandData%2FCOVID-19%2Fmaster%2Fcsse_covid_19_data%2Fcsse_covid_19_time_series%2Ftime_series_covid19_deaths_global.csv&filename=time_series_covid19_deaths_global.csv\"\n",
        "recoverUrl = \"https://data.humdata.org/hxlproxy/api/data-preview.csv?url=https%3A%2F%2Fraw.githubusercontent.com%2FCSSEGISandData%2FCOVID-19%2Fmaster%2Fcsse_covid_19_data%2Fcsse_covid_19_time_series%2Ftime_series_covid19_recovered_global.csv&filename=time_series_covid19_recovered_global.csv\""
      ],
      "execution_count": 0,
      "outputs": []
    },
    {
      "cell_type": "code",
      "metadata": {
        "id": "p4fducswJNNZ",
        "colab_type": "code",
        "colab": {}
      },
      "source": [
        "def get_n_melt_data(data_url,case_type):\n",
        "  df = pd.read_csv(data_url)\n",
        "  melted_df = df.melt(id_vars=['Province/State' , 'Country/Region' , 'Lat' , 'Long'])\n",
        "  melted_df.rename(columns={\"variable\":\"Date\",\"value\": case_type} , inplace=True)\n",
        "  return melted_df\n",
        "\n",
        "def merge_data(confirmed_df , recovered_df , deaths_df):\n",
        "  new_df = confirmed_df.join(recovered_df['Recovered']).join(deaths_df['Deaths'])\n",
        "  return new_df\n"
      ],
      "execution_count": 0,
      "outputs": []
    },
    {
      "cell_type": "code",
      "metadata": {
        "id": "AXsoCSuPKJaa",
        "colab_type": "code",
        "colab": {}
      },
      "source": [
        "confirmed_df = get_n_melt_data(confirmUrl , \"Confirmed\")\n",
        "recovered_df = get_n_melt_data(recoverUrl , \"Recovered\")\n",
        "deaths_df = get_n_melt_data(deathUrl , \"Deaths\")"
      ],
      "execution_count": 0,
      "outputs": []
    },
    {
      "cell_type": "code",
      "metadata": {
        "id": "JAP_ZoqvKhVS",
        "colab_type": "code",
        "colab": {}
      },
      "source": [
        "df = merge_data(confirmed_df , recovered_df , deaths_df)"
      ],
      "execution_count": 0,
      "outputs": []
    },
    {
      "cell_type": "code",
      "metadata": {
        "id": "FdeX_NiOKi9y",
        "colab_type": "code",
        "colab": {
          "base_uri": "https://localhost:8080/",
          "height": 195
        },
        "outputId": "742519c4-600e-4faf-e49b-ca54bdd056dd"
      },
      "source": [
        "df.head()"
      ],
      "execution_count": 33,
      "outputs": [
        {
          "output_type": "execute_result",
          "data": {
            "text/html": [
              "<div>\n",
              "<style scoped>\n",
              "    .dataframe tbody tr th:only-of-type {\n",
              "        vertical-align: middle;\n",
              "    }\n",
              "\n",
              "    .dataframe tbody tr th {\n",
              "        vertical-align: top;\n",
              "    }\n",
              "\n",
              "    .dataframe thead th {\n",
              "        text-align: right;\n",
              "    }\n",
              "</style>\n",
              "<table border=\"1\" class=\"dataframe\">\n",
              "  <thead>\n",
              "    <tr style=\"text-align: right;\">\n",
              "      <th></th>\n",
              "      <th>Province/State</th>\n",
              "      <th>Country/Region</th>\n",
              "      <th>Lat</th>\n",
              "      <th>Long</th>\n",
              "      <th>Date</th>\n",
              "      <th>Confirmed</th>\n",
              "      <th>Recovered</th>\n",
              "      <th>Deaths</th>\n",
              "    </tr>\n",
              "  </thead>\n",
              "  <tbody>\n",
              "    <tr>\n",
              "      <th>0</th>\n",
              "      <td>NaN</td>\n",
              "      <td>Afghanistan</td>\n",
              "      <td>33.0000</td>\n",
              "      <td>65.0000</td>\n",
              "      <td>1/22/20</td>\n",
              "      <td>0</td>\n",
              "      <td>0.0</td>\n",
              "      <td>0</td>\n",
              "    </tr>\n",
              "    <tr>\n",
              "      <th>1</th>\n",
              "      <td>NaN</td>\n",
              "      <td>Albania</td>\n",
              "      <td>41.1533</td>\n",
              "      <td>20.1683</td>\n",
              "      <td>1/22/20</td>\n",
              "      <td>0</td>\n",
              "      <td>0.0</td>\n",
              "      <td>0</td>\n",
              "    </tr>\n",
              "    <tr>\n",
              "      <th>2</th>\n",
              "      <td>NaN</td>\n",
              "      <td>Algeria</td>\n",
              "      <td>28.0339</td>\n",
              "      <td>1.6596</td>\n",
              "      <td>1/22/20</td>\n",
              "      <td>0</td>\n",
              "      <td>0.0</td>\n",
              "      <td>0</td>\n",
              "    </tr>\n",
              "    <tr>\n",
              "      <th>3</th>\n",
              "      <td>NaN</td>\n",
              "      <td>Andorra</td>\n",
              "      <td>42.5063</td>\n",
              "      <td>1.5218</td>\n",
              "      <td>1/22/20</td>\n",
              "      <td>0</td>\n",
              "      <td>0.0</td>\n",
              "      <td>0</td>\n",
              "    </tr>\n",
              "    <tr>\n",
              "      <th>4</th>\n",
              "      <td>NaN</td>\n",
              "      <td>Angola</td>\n",
              "      <td>-11.2027</td>\n",
              "      <td>17.8739</td>\n",
              "      <td>1/22/20</td>\n",
              "      <td>0</td>\n",
              "      <td>0.0</td>\n",
              "      <td>0</td>\n",
              "    </tr>\n",
              "  </tbody>\n",
              "</table>\n",
              "</div>"
            ],
            "text/plain": [
              "  Province/State Country/Region      Lat  ...  Confirmed Recovered  Deaths\n",
              "0            NaN    Afghanistan  33.0000  ...          0       0.0       0\n",
              "1            NaN        Albania  41.1533  ...          0       0.0       0\n",
              "2            NaN        Algeria  28.0339  ...          0       0.0       0\n",
              "3            NaN        Andorra  42.5063  ...          0       0.0       0\n",
              "4            NaN         Angola -11.2027  ...          0       0.0       0\n",
              "\n",
              "[5 rows x 8 columns]"
            ]
          },
          "metadata": {
            "tags": []
          },
          "execution_count": 33
        }
      ]
    },
    {
      "cell_type": "code",
      "metadata": {
        "id": "Ho-F0qjcMlOF",
        "colab_type": "code",
        "colab": {
          "base_uri": "https://localhost:8080/",
          "height": 67
        },
        "outputId": "a6473fc0-f973-4f3d-a69e-8c2086a602a5"
      },
      "source": [
        "df.columns"
      ],
      "execution_count": 34,
      "outputs": [
        {
          "output_type": "execute_result",
          "data": {
            "text/plain": [
              "Index(['Province/State', 'Country/Region', 'Lat', 'Long', 'Date', 'Confirmed',\n",
              "       'Recovered', 'Deaths'],\n",
              "      dtype='object')"
            ]
          },
          "metadata": {
            "tags": []
          },
          "execution_count": 34
        }
      ]
    },
    {
      "cell_type": "code",
      "metadata": {
        "id": "rgpX18qnMDHc",
        "colab_type": "code",
        "colab": {}
      },
      "source": [
        "df_per_day = df.groupby(\"Date\")[['Confirmed','Recovered', 'Deaths']].sum()"
      ],
      "execution_count": 0,
      "outputs": []
    },
    {
      "cell_type": "code",
      "metadata": {
        "id": "nfZJpbSgMkqM",
        "colab_type": "code",
        "colab": {
          "base_uri": "https://localhost:8080/",
          "height": 431
        },
        "outputId": "2a912c40-ad29-4679-8537-fc7b3d33e28a"
      },
      "source": [
        "df_per_day"
      ],
      "execution_count": 38,
      "outputs": [
        {
          "output_type": "execute_result",
          "data": {
            "text/html": [
              "<div>\n",
              "<style scoped>\n",
              "    .dataframe tbody tr th:only-of-type {\n",
              "        vertical-align: middle;\n",
              "    }\n",
              "\n",
              "    .dataframe tbody tr th {\n",
              "        vertical-align: top;\n",
              "    }\n",
              "\n",
              "    .dataframe thead th {\n",
              "        text-align: right;\n",
              "    }\n",
              "</style>\n",
              "<table border=\"1\" class=\"dataframe\">\n",
              "  <thead>\n",
              "    <tr style=\"text-align: right;\">\n",
              "      <th></th>\n",
              "      <th>Confirmed</th>\n",
              "      <th>Recovered</th>\n",
              "      <th>Deaths</th>\n",
              "    </tr>\n",
              "    <tr>\n",
              "      <th>Date</th>\n",
              "      <th></th>\n",
              "      <th></th>\n",
              "      <th></th>\n",
              "    </tr>\n",
              "  </thead>\n",
              "  <tbody>\n",
              "    <tr>\n",
              "      <th>1/22/20</th>\n",
              "      <td>555</td>\n",
              "      <td>28.0</td>\n",
              "      <td>17</td>\n",
              "    </tr>\n",
              "    <tr>\n",
              "      <th>1/23/20</th>\n",
              "      <td>654</td>\n",
              "      <td>30.0</td>\n",
              "      <td>18</td>\n",
              "    </tr>\n",
              "    <tr>\n",
              "      <th>1/24/20</th>\n",
              "      <td>941</td>\n",
              "      <td>38.0</td>\n",
              "      <td>26</td>\n",
              "    </tr>\n",
              "    <tr>\n",
              "      <th>1/25/20</th>\n",
              "      <td>1434</td>\n",
              "      <td>83.0</td>\n",
              "      <td>42</td>\n",
              "    </tr>\n",
              "    <tr>\n",
              "      <th>1/26/20</th>\n",
              "      <td>2118</td>\n",
              "      <td>63.0</td>\n",
              "      <td>56</td>\n",
              "    </tr>\n",
              "    <tr>\n",
              "      <th>...</th>\n",
              "      <td>...</td>\n",
              "      <td>...</td>\n",
              "      <td>...</td>\n",
              "    </tr>\n",
              "    <tr>\n",
              "      <th>4/5/20</th>\n",
              "      <td>1249754</td>\n",
              "      <td>368032.0</td>\n",
              "      <td>69374</td>\n",
              "    </tr>\n",
              "    <tr>\n",
              "      <th>4/6/20</th>\n",
              "      <td>1321481</td>\n",
              "      <td>447934.0</td>\n",
              "      <td>74565</td>\n",
              "    </tr>\n",
              "    <tr>\n",
              "      <th>4/7/20</th>\n",
              "      <td>1396476</td>\n",
              "      <td>408149.0</td>\n",
              "      <td>81937</td>\n",
              "    </tr>\n",
              "    <tr>\n",
              "      <th>4/8/20</th>\n",
              "      <td>1480202</td>\n",
              "      <td>429128.0</td>\n",
              "      <td>88338</td>\n",
              "    </tr>\n",
              "    <tr>\n",
              "      <th>4/9/20</th>\n",
              "      <td>1565278</td>\n",
              "      <td>455068.0</td>\n",
              "      <td>95521</td>\n",
              "    </tr>\n",
              "  </tbody>\n",
              "</table>\n",
              "<p>90 rows × 3 columns</p>\n",
              "</div>"
            ],
            "text/plain": [
              "         Confirmed  Recovered  Deaths\n",
              "Date                                 \n",
              "1/22/20        555       28.0      17\n",
              "1/23/20        654       30.0      18\n",
              "1/24/20        941       38.0      26\n",
              "1/25/20       1434       83.0      42\n",
              "1/26/20       2118       63.0      56\n",
              "...            ...        ...     ...\n",
              "4/5/20     1249754   368032.0   69374\n",
              "4/6/20     1321481   447934.0   74565\n",
              "4/7/20     1396476   408149.0   81937\n",
              "4/8/20     1480202   429128.0   88338\n",
              "4/9/20     1565278   455068.0   95521\n",
              "\n",
              "[90 rows x 3 columns]"
            ]
          },
          "metadata": {
            "tags": []
          },
          "execution_count": 38
        }
      ]
    },
    {
      "cell_type": "code",
      "metadata": {
        "id": "1Fhpq6pUMuWG",
        "colab_type": "code",
        "colab": {
          "base_uri": "https://localhost:8080/",
          "height": 284
        },
        "outputId": "3e4016e3-3670-498d-f8a1-ed175d155503"
      },
      "source": [
        "df_per_day.describe()"
      ],
      "execution_count": 39,
      "outputs": [
        {
          "output_type": "execute_result",
          "data": {
            "text/html": [
              "<div>\n",
              "<style scoped>\n",
              "    .dataframe tbody tr th:only-of-type {\n",
              "        vertical-align: middle;\n",
              "    }\n",
              "\n",
              "    .dataframe tbody tr th {\n",
              "        vertical-align: top;\n",
              "    }\n",
              "\n",
              "    .dataframe thead th {\n",
              "        text-align: right;\n",
              "    }\n",
              "</style>\n",
              "<table border=\"1\" class=\"dataframe\">\n",
              "  <thead>\n",
              "    <tr style=\"text-align: right;\">\n",
              "      <th></th>\n",
              "      <th>Confirmed</th>\n",
              "      <th>Recovered</th>\n",
              "      <th>Deaths</th>\n",
              "    </tr>\n",
              "  </thead>\n",
              "  <tbody>\n",
              "    <tr>\n",
              "      <th>count</th>\n",
              "      <td>9.000000e+01</td>\n",
              "      <td>90.000000</td>\n",
              "      <td>90.000000</td>\n",
              "    </tr>\n",
              "    <tr>\n",
              "      <th>mean</th>\n",
              "      <td>4.953888e+05</td>\n",
              "      <td>123206.722222</td>\n",
              "      <td>28491.144444</td>\n",
              "    </tr>\n",
              "    <tr>\n",
              "      <th>std</th>\n",
              "      <td>7.057873e+05</td>\n",
              "      <td>172083.881897</td>\n",
              "      <td>46424.172650</td>\n",
              "    </tr>\n",
              "    <tr>\n",
              "      <th>min</th>\n",
              "      <td>5.550000e+02</td>\n",
              "      <td>0.000000</td>\n",
              "      <td>17.000000</td>\n",
              "    </tr>\n",
              "    <tr>\n",
              "      <th>25%</th>\n",
              "      <td>6.199725e+04</td>\n",
              "      <td>4131.750000</td>\n",
              "      <td>1409.000000</td>\n",
              "    </tr>\n",
              "    <tr>\n",
              "      <th>50%</th>\n",
              "      <td>1.038240e+05</td>\n",
              "      <td>57037.500000</td>\n",
              "      <td>3509.000000</td>\n",
              "    </tr>\n",
              "    <tr>\n",
              "      <th>75%</th>\n",
              "      <td>7.052782e+05</td>\n",
              "      <td>159046.000000</td>\n",
              "      <td>33106.750000</td>\n",
              "    </tr>\n",
              "    <tr>\n",
              "      <th>max</th>\n",
              "      <td>2.472258e+06</td>\n",
              "      <td>652381.000000</td>\n",
              "      <td>169985.000000</td>\n",
              "    </tr>\n",
              "  </tbody>\n",
              "</table>\n",
              "</div>"
            ],
            "text/plain": [
              "          Confirmed      Recovered         Deaths\n",
              "count  9.000000e+01      90.000000      90.000000\n",
              "mean   4.953888e+05  123206.722222   28491.144444\n",
              "std    7.057873e+05  172083.881897   46424.172650\n",
              "min    5.550000e+02       0.000000      17.000000\n",
              "25%    6.199725e+04    4131.750000    1409.000000\n",
              "50%    1.038240e+05   57037.500000    3509.000000\n",
              "75%    7.052782e+05  159046.000000   33106.750000\n",
              "max    2.472258e+06  652381.000000  169985.000000"
            ]
          },
          "metadata": {
            "tags": []
          },
          "execution_count": 39
        }
      ]
    },
    {
      "cell_type": "code",
      "metadata": {
        "id": "09-C7YZQM3_a",
        "colab_type": "code",
        "colab": {
          "base_uri": "https://localhost:8080/",
          "height": 362
        },
        "outputId": "d1f0560d-0922-44ef-c658-a063eb94bf8f"
      },
      "source": [
        "df_per_day.plot(kind='line' , figsize=(20,5))"
      ],
      "execution_count": 53,
      "outputs": [
        {
          "output_type": "execute_result",
          "data": {
            "text/plain": [
              "<matplotlib.axes._subplots.AxesSubplot at 0x7fbeb44a92e8>"
            ]
          },
          "metadata": {
            "tags": []
          },
          "execution_count": 53
        },
        {
          "output_type": "display_data",
          "data": {
            "image/png": "[encoded data removed]",
            "text/plain": [
              "<Figure size 1440x360 with 1 Axes>"
            ]
          },
          "metadata": {
            "tags": [],
            "needs_background": "light"
          }
        }
      ]
    },
    {
      "cell_type": "code",
      "metadata": {
        "id": "6ND9We2YNB0U",
        "colab_type": "code",
        "colab": {
          "base_uri": "https://localhost:8080/",
          "height": 302
        },
        "outputId": "26f13166-e6ff-4da9-bb58-143b0b649c8f"
      },
      "source": [
        "dir(fbp)"
      ],
      "execution_count": 54,
      "outputs": [
        {
          "output_type": "execute_result",
          "data": {
            "text/plain": [
              "['Prophet',\n",
              " '__builtins__',\n",
              " '__cached__',\n",
              " '__doc__',\n",
              " '__file__',\n",
              " '__loader__',\n",
              " '__name__',\n",
              " '__package__',\n",
              " '__path__',\n",
              " '__spec__',\n",
              " '__version__',\n",
              " 'diagnostics',\n",
              " 'forecaster',\n",
              " 'hdays',\n",
              " 'make_holidays',\n",
              " 'models',\n",
              " 'plot']"
            ]
          },
          "metadata": {
            "tags": []
          },
          "execution_count": 54
        }
      ]
    },
    {
      "cell_type": "code",
      "metadata": {
        "id": "YrFFlrO3PNoZ",
        "colab_type": "code",
        "colab": {}
      },
      "source": [
        "from fbprophet import Prophet\n",
        "\n",
        "m = Prophet()"
      ],
      "execution_count": 0,
      "outputs": []
    },
    {
      "cell_type": "code",
      "metadata": {
        "id": "K7tBM97cPifh",
        "colab_type": "code",
        "colab": {
          "base_uri": "https://localhost:8080/",
          "height": 34
        },
        "outputId": "72410c71-5399-4bf0-e32b-c7b7b433aa17"
      },
      "source": [
        "m.add_seasonality(name=\"monthly\",period=30.5,fourier_order=5)"
      ],
      "execution_count": 56,
      "outputs": [
        {
          "output_type": "execute_result",
          "data": {
            "text/plain": [
              "<fbprophet.forecaster.Prophet at 0x7fbeb44a9d30>"
            ]
          },
          "metadata": {
            "tags": []
          },
          "execution_count": 56
        }
      ]
    },
    {
      "cell_type": "code",
      "metadata": {
        "id": "N_n2GdspPvtm",
        "colab_type": "code",
        "colab": {}
      },
      "source": [
        "global_cases = df_per_day.reset_index()"
      ],
      "execution_count": 0,
      "outputs": []
    },
    {
      "cell_type": "code",
      "metadata": {
        "id": "U1aexCvDP9wj",
        "colab_type": "code",
        "colab": {
          "base_uri": "https://localhost:8080/",
          "height": 195
        },
        "outputId": "ac71abed-cc15-4543-9774-e369aa0710b2"
      },
      "source": [
        "global_cases.head()"
      ],
      "execution_count": 58,
      "outputs": [
        {
          "output_type": "execute_result",
          "data": {
            "text/html": [
              "<div>\n",
              "<style scoped>\n",
              "    .dataframe tbody tr th:only-of-type {\n",
              "        vertical-align: middle;\n",
              "    }\n",
              "\n",
              "    .dataframe tbody tr th {\n",
              "        vertical-align: top;\n",
              "    }\n",
              "\n",
              "    .dataframe thead th {\n",
              "        text-align: right;\n",
              "    }\n",
              "</style>\n",
              "<table border=\"1\" class=\"dataframe\">\n",
              "  <thead>\n",
              "    <tr style=\"text-align: right;\">\n",
              "      <th></th>\n",
              "      <th>Date</th>\n",
              "      <th>Confirmed</th>\n",
              "      <th>Recovered</th>\n",
              "      <th>Deaths</th>\n",
              "    </tr>\n",
              "  </thead>\n",
              "  <tbody>\n",
              "    <tr>\n",
              "      <th>0</th>\n",
              "      <td>1/22/20</td>\n",
              "      <td>555</td>\n",
              "      <td>28.0</td>\n",
              "      <td>17</td>\n",
              "    </tr>\n",
              "    <tr>\n",
              "      <th>1</th>\n",
              "      <td>1/23/20</td>\n",
              "      <td>654</td>\n",
              "      <td>30.0</td>\n",
              "      <td>18</td>\n",
              "    </tr>\n",
              "    <tr>\n",
              "      <th>2</th>\n",
              "      <td>1/24/20</td>\n",
              "      <td>941</td>\n",
              "      <td>38.0</td>\n",
              "      <td>26</td>\n",
              "    </tr>\n",
              "    <tr>\n",
              "      <th>3</th>\n",
              "      <td>1/25/20</td>\n",
              "      <td>1434</td>\n",
              "      <td>83.0</td>\n",
              "      <td>42</td>\n",
              "    </tr>\n",
              "    <tr>\n",
              "      <th>4</th>\n",
              "      <td>1/26/20</td>\n",
              "      <td>2118</td>\n",
              "      <td>63.0</td>\n",
              "      <td>56</td>\n",
              "    </tr>\n",
              "  </tbody>\n",
              "</table>\n",
              "</div>"
            ],
            "text/plain": [
              "      Date  Confirmed  Recovered  Deaths\n",
              "0  1/22/20        555       28.0      17\n",
              "1  1/23/20        654       30.0      18\n",
              "2  1/24/20        941       38.0      26\n",
              "3  1/25/20       1434       83.0      42\n",
              "4  1/26/20       2118       63.0      56"
            ]
          },
          "metadata": {
            "tags": []
          },
          "execution_count": 58
        }
      ]
    },
    {
      "cell_type": "code",
      "metadata": {
        "id": "xXLLwF6jQBvH",
        "colab_type": "code",
        "colab": {}
      },
      "source": [
        "confirmed_cases = global_cases[[\"Date\",\"Confirmed\"]]\n",
        "recovered_cases = global_cases[[\"Date\",\"Recovered\"]]\n",
        "death_cases = global_cases[[\"Date\",\"Deaths\"]]"
      ],
      "execution_count": 0,
      "outputs": []
    },
    {
      "cell_type": "code",
      "metadata": {
        "id": "YfQGgwl6QRBI",
        "colab_type": "code",
        "colab": {
          "base_uri": "https://localhost:8080/",
          "height": 34
        },
        "outputId": "efee7826-bd21-4ada-c897-2259404ae6cc"
      },
      "source": [
        "confirmed_cases.shape"
      ],
      "execution_count": 64,
      "outputs": [
        {
          "output_type": "execute_result",
          "data": {
            "text/plain": [
              "(90, 2)"
            ]
          },
          "metadata": {
            "tags": []
          },
          "execution_count": 64
        }
      ]
    },
    {
      "cell_type": "code",
      "metadata": {
        "id": "Vn0dXpjEQq9M",
        "colab_type": "code",
        "colab": {
          "base_uri": "https://localhost:8080/",
          "height": 134
        },
        "outputId": "9d84e5d4-24c6-4cb1-b7a2-65003c027e90"
      },
      "source": [
        "confirmed_cases.rename(columns={\"Date\":\"ds\",\"Confirmed\":\"y\"} , inplace=True)"
      ],
      "execution_count": 65,
      "outputs": [
        {
          "output_type": "stream",
          "text": [
            "/usr/local/lib/python3.6/dist-packages/pandas/core/frame.py:4133: SettingWithCopyWarning:\n",
            "\n",
            "\n",
            "A value is trying to be set on a copy of a slice from a DataFrame\n",
            "\n",
            "See the caveats in the documentation: https://pandas.pydata.org/pandas-docs/stable/user_guide/indexing.html#returning-a-view-versus-a-copy\n",
            "\n"
          ],
          "name": "stderr"
        }
      ]
    },
    {
      "cell_type": "code",
      "metadata": {
        "id": "QC0a0BrhQXQP",
        "colab_type": "code",
        "colab": {}
      },
      "source": [
        "train = confirmed_cases[:45]\n",
        "test = confirmed_cases[45:]"
      ],
      "execution_count": 0,
      "outputs": []
    },
    {
      "cell_type": "code",
      "metadata": {
        "id": "Q8D_wRyFQkJd",
        "colab_type": "code",
        "colab": {
          "base_uri": "https://localhost:8080/",
          "height": 195
        },
        "outputId": "faaecc2b-e6d7-4a79-fbec-dfa9ac67d236"
      },
      "source": [
        "train.head()"
      ],
      "execution_count": 67,
      "outputs": [
        {
          "output_type": "execute_result",
          "data": {
            "text/html": [
              "<div>\n",
              "<style scoped>\n",
              "    .dataframe tbody tr th:only-of-type {\n",
              "        vertical-align: middle;\n",
              "    }\n",
              "\n",
              "    .dataframe tbody tr th {\n",
              "        vertical-align: top;\n",
              "    }\n",
              "\n",
              "    .dataframe thead th {\n",
              "        text-align: right;\n",
              "    }\n",
              "</style>\n",
              "<table border=\"1\" class=\"dataframe\">\n",
              "  <thead>\n",
              "    <tr style=\"text-align: right;\">\n",
              "      <th></th>\n",
              "      <th>ds</th>\n",
              "      <th>y</th>\n",
              "    </tr>\n",
              "  </thead>\n",
              "  <tbody>\n",
              "    <tr>\n",
              "      <th>0</th>\n",
              "      <td>1/22/20</td>\n",
              "      <td>555</td>\n",
              "    </tr>\n",
              "    <tr>\n",
              "      <th>1</th>\n",
              "      <td>1/23/20</td>\n",
              "      <td>654</td>\n",
              "    </tr>\n",
              "    <tr>\n",
              "      <th>2</th>\n",
              "      <td>1/24/20</td>\n",
              "      <td>941</td>\n",
              "    </tr>\n",
              "    <tr>\n",
              "      <th>3</th>\n",
              "      <td>1/25/20</td>\n",
              "      <td>1434</td>\n",
              "    </tr>\n",
              "    <tr>\n",
              "      <th>4</th>\n",
              "      <td>1/26/20</td>\n",
              "      <td>2118</td>\n",
              "    </tr>\n",
              "  </tbody>\n",
              "</table>\n",
              "</div>"
            ],
            "text/plain": [
              "        ds     y\n",
              "0  1/22/20   555\n",
              "1  1/23/20   654\n",
              "2  1/24/20   941\n",
              "3  1/25/20  1434\n",
              "4  1/26/20  2118"
            ]
          },
          "metadata": {
            "tags": []
          },
          "execution_count": 67
        }
      ]
    },
    {
      "cell_type": "code",
      "metadata": {
        "id": "VqZRqtZEQls5",
        "colab_type": "code",
        "colab": {
          "base_uri": "https://localhost:8080/",
          "height": 84
        },
        "outputId": "1f582d40-c9cf-47e3-a8b1-dc143b5c39b2"
      },
      "source": [
        "m.fit(train)"
      ],
      "execution_count": 68,
      "outputs": [
        {
          "output_type": "stream",
          "text": [
            "INFO:numexpr.utils:NumExpr defaulting to 2 threads.\n",
            "INFO:fbprophet:Disabling yearly seasonality. Run prophet with yearly_seasonality=True to override this.\n",
            "INFO:fbprophet:Disabling daily seasonality. Run prophet with daily_seasonality=True to override this.\n"
          ],
          "name": "stderr"
        },
        {
          "output_type": "execute_result",
          "data": {
            "text/plain": [
              "<fbprophet.forecaster.Prophet at 0x7fbeb44a9d30>"
            ]
          },
          "metadata": {
            "tags": []
          },
          "execution_count": 68
        }
      ]
    },
    {
      "cell_type": "code",
      "metadata": {
        "id": "DjmS7ATTQ8wZ",
        "colab_type": "code",
        "colab": {}
      },
      "source": [
        "future_date = m.make_future_dataframe(periods=30)"
      ],
      "execution_count": 0,
      "outputs": []
    },
    {
      "cell_type": "code",
      "metadata": {
        "id": "N-Tznv8zRFDQ",
        "colab_type": "code",
        "colab": {
          "base_uri": "https://localhost:8080/",
          "height": 402
        },
        "outputId": "f01cd5ee-6cec-4f4f-bf84-bfa506f05dcc"
      },
      "source": [
        "future_date"
      ],
      "execution_count": 79,
      "outputs": [
        {
          "output_type": "execute_result",
          "data": {
            "text/html": [
              "<div>\n",
              "<style scoped>\n",
              "    .dataframe tbody tr th:only-of-type {\n",
              "        vertical-align: middle;\n",
              "    }\n",
              "\n",
              "    .dataframe tbody tr th {\n",
              "        vertical-align: top;\n",
              "    }\n",
              "\n",
              "    .dataframe thead th {\n",
              "        text-align: right;\n",
              "    }\n",
              "</style>\n",
              "<table border=\"1\" class=\"dataframe\">\n",
              "  <thead>\n",
              "    <tr style=\"text-align: right;\">\n",
              "      <th></th>\n",
              "      <th>ds</th>\n",
              "    </tr>\n",
              "  </thead>\n",
              "  <tbody>\n",
              "    <tr>\n",
              "      <th>0</th>\n",
              "      <td>2020-01-22</td>\n",
              "    </tr>\n",
              "    <tr>\n",
              "      <th>1</th>\n",
              "      <td>2020-01-23</td>\n",
              "    </tr>\n",
              "    <tr>\n",
              "      <th>2</th>\n",
              "      <td>2020-01-24</td>\n",
              "    </tr>\n",
              "    <tr>\n",
              "      <th>3</th>\n",
              "      <td>2020-01-25</td>\n",
              "    </tr>\n",
              "    <tr>\n",
              "      <th>4</th>\n",
              "      <td>2020-01-26</td>\n",
              "    </tr>\n",
              "    <tr>\n",
              "      <th>...</th>\n",
              "      <td>...</td>\n",
              "    </tr>\n",
              "    <tr>\n",
              "      <th>70</th>\n",
              "      <td>2020-04-09</td>\n",
              "    </tr>\n",
              "    <tr>\n",
              "      <th>71</th>\n",
              "      <td>2020-04-10</td>\n",
              "    </tr>\n",
              "    <tr>\n",
              "      <th>72</th>\n",
              "      <td>2020-04-11</td>\n",
              "    </tr>\n",
              "    <tr>\n",
              "      <th>73</th>\n",
              "      <td>2020-04-12</td>\n",
              "    </tr>\n",
              "    <tr>\n",
              "      <th>74</th>\n",
              "      <td>2020-04-13</td>\n",
              "    </tr>\n",
              "  </tbody>\n",
              "</table>\n",
              "<p>75 rows × 1 columns</p>\n",
              "</div>"
            ],
            "text/plain": [
              "           ds\n",
              "0  2020-01-22\n",
              "1  2020-01-23\n",
              "2  2020-01-24\n",
              "3  2020-01-25\n",
              "4  2020-01-26\n",
              "..        ...\n",
              "70 2020-04-09\n",
              "71 2020-04-10\n",
              "72 2020-04-11\n",
              "73 2020-04-12\n",
              "74 2020-04-13\n",
              "\n",
              "[75 rows x 1 columns]"
            ]
          },
          "metadata": {
            "tags": []
          },
          "execution_count": 79
        }
      ]
    },
    {
      "cell_type": "code",
      "metadata": {
        "id": "ZS5pLG4LRGGT",
        "colab_type": "code",
        "colab": {}
      },
      "source": [
        "predication = m.predict(future_date)"
      ],
      "execution_count": 0,
      "outputs": []
    },
    {
      "cell_type": "code",
      "metadata": {
        "id": "Fod0wYX7RQfR",
        "colab_type": "code",
        "colab": {
          "base_uri": "https://localhost:8080/",
          "height": 590
        },
        "outputId": "4645f93f-04b8-465a-9415-cbc46b955772"
      },
      "source": [
        "predication"
      ],
      "execution_count": 81,
      "outputs": [
        {
          "output_type": "execute_result",
          "data": {
            "text/html": [
              "<div>\n",
              "<style scoped>\n",
              "    .dataframe tbody tr th:only-of-type {\n",
              "        vertical-align: middle;\n",
              "    }\n",
              "\n",
              "    .dataframe tbody tr th {\n",
              "        vertical-align: top;\n",
              "    }\n",
              "\n",
              "    .dataframe thead th {\n",
              "        text-align: right;\n",
              "    }\n",
              "</style>\n",
              "<table border=\"1\" class=\"dataframe\">\n",
              "  <thead>\n",
              "    <tr style=\"text-align: right;\">\n",
              "      <th></th>\n",
              "      <th>ds</th>\n",
              "      <th>trend</th>\n",
              "      <th>yhat_lower</th>\n",
              "      <th>yhat_upper</th>\n",
              "      <th>trend_lower</th>\n",
              "      <th>trend_upper</th>\n",
              "      <th>additive_terms</th>\n",
              "      <th>additive_terms_lower</th>\n",
              "      <th>additive_terms_upper</th>\n",
              "      <th>monthly</th>\n",
              "      <th>monthly_lower</th>\n",
              "      <th>monthly_upper</th>\n",
              "      <th>weekly</th>\n",
              "      <th>weekly_lower</th>\n",
              "      <th>weekly_upper</th>\n",
              "      <th>multiplicative_terms</th>\n",
              "      <th>multiplicative_terms_lower</th>\n",
              "      <th>multiplicative_terms_upper</th>\n",
              "      <th>yhat</th>\n",
              "    </tr>\n",
              "  </thead>\n",
              "  <tbody>\n",
              "    <tr>\n",
              "      <th>0</th>\n",
              "      <td>2020-01-22</td>\n",
              "      <td>-2321.179282</td>\n",
              "      <td>-2468.615267</td>\n",
              "      <td>2655.741184</td>\n",
              "      <td>-2321.179282</td>\n",
              "      <td>-2321.179282</td>\n",
              "      <td>2495.707569</td>\n",
              "      <td>2495.707569</td>\n",
              "      <td>2495.707569</td>\n",
              "      <td>4678.283496</td>\n",
              "      <td>4678.283496</td>\n",
              "      <td>4678.283496</td>\n",
              "      <td>-2182.575927</td>\n",
              "      <td>-2182.575927</td>\n",
              "      <td>-2182.575927</td>\n",
              "      <td>0.0</td>\n",
              "      <td>0.0</td>\n",
              "      <td>0.0</td>\n",
              "      <td>174.528287</td>\n",
              "    </tr>\n",
              "    <tr>\n",
              "      <th>1</th>\n",
              "      <td>2020-01-23</td>\n",
              "      <td>110.707653</td>\n",
              "      <td>-2717.744598</td>\n",
              "      <td>2344.742154</td>\n",
              "      <td>110.707653</td>\n",
              "      <td>110.707653</td>\n",
              "      <td>-222.717113</td>\n",
              "      <td>-222.717113</td>\n",
              "      <td>-222.717113</td>\n",
              "      <td>1123.606552</td>\n",
              "      <td>1123.606552</td>\n",
              "      <td>1123.606552</td>\n",
              "      <td>-1346.323665</td>\n",
              "      <td>-1346.323665</td>\n",
              "      <td>-1346.323665</td>\n",
              "      <td>0.0</td>\n",
              "      <td>0.0</td>\n",
              "      <td>0.0</td>\n",
              "      <td>-112.009460</td>\n",
              "    </tr>\n",
              "    <tr>\n",
              "      <th>2</th>\n",
              "      <td>2020-01-24</td>\n",
              "      <td>2542.594588</td>\n",
              "      <td>-838.803550</td>\n",
              "      <td>4117.182035</td>\n",
              "      <td>2542.594588</td>\n",
              "      <td>2542.594588</td>\n",
              "      <td>-940.516876</td>\n",
              "      <td>-940.516876</td>\n",
              "      <td>-940.516876</td>\n",
              "      <td>-1617.968387</td>\n",
              "      <td>-1617.968387</td>\n",
              "      <td>-1617.968387</td>\n",
              "      <td>677.451511</td>\n",
              "      <td>677.451511</td>\n",
              "      <td>677.451511</td>\n",
              "      <td>0.0</td>\n",
              "      <td>0.0</td>\n",
              "      <td>0.0</td>\n",
              "      <td>1602.077712</td>\n",
              "    </tr>\n",
              "    <tr>\n",
              "      <th>3</th>\n",
              "      <td>2020-01-25</td>\n",
              "      <td>4974.481523</td>\n",
              "      <td>553.161028</td>\n",
              "      <td>5657.984390</td>\n",
              "      <td>4974.481523</td>\n",
              "      <td>4974.481523</td>\n",
              "      <td>-1749.848576</td>\n",
              "      <td>-1749.848576</td>\n",
              "      <td>-1749.848576</td>\n",
              "      <td>-3373.735895</td>\n",
              "      <td>-3373.735895</td>\n",
              "      <td>-3373.735895</td>\n",
              "      <td>1623.887319</td>\n",
              "      <td>1623.887319</td>\n",
              "      <td>1623.887319</td>\n",
              "      <td>0.0</td>\n",
              "      <td>0.0</td>\n",
              "      <td>0.0</td>\n",
              "      <td>3224.632947</td>\n",
              "    </tr>\n",
              "    <tr>\n",
              "      <th>4</th>\n",
              "      <td>2020-01-26</td>\n",
              "      <td>7406.368460</td>\n",
              "      <td>1575.975941</td>\n",
              "      <td>6708.967503</td>\n",
              "      <td>7406.368460</td>\n",
              "      <td>7406.368460</td>\n",
              "      <td>-3259.129784</td>\n",
              "      <td>-3259.129784</td>\n",
              "      <td>-3259.129784</td>\n",
              "      <td>-4579.032566</td>\n",
              "      <td>-4579.032566</td>\n",
              "      <td>-4579.032566</td>\n",
              "      <td>1319.902782</td>\n",
              "      <td>1319.902782</td>\n",
              "      <td>1319.902782</td>\n",
              "      <td>0.0</td>\n",
              "      <td>0.0</td>\n",
              "      <td>0.0</td>\n",
              "      <td>4147.238676</td>\n",
              "    </tr>\n",
              "    <tr>\n",
              "      <th>...</th>\n",
              "      <td>...</td>\n",
              "      <td>...</td>\n",
              "      <td>...</td>\n",
              "      <td>...</td>\n",
              "      <td>...</td>\n",
              "      <td>...</td>\n",
              "      <td>...</td>\n",
              "      <td>...</td>\n",
              "      <td>...</td>\n",
              "      <td>...</td>\n",
              "      <td>...</td>\n",
              "      <td>...</td>\n",
              "      <td>...</td>\n",
              "      <td>...</td>\n",
              "      <td>...</td>\n",
              "      <td>...</td>\n",
              "      <td>...</td>\n",
              "      <td>...</td>\n",
              "      <td>...</td>\n",
              "    </tr>\n",
              "    <tr>\n",
              "      <th>70</th>\n",
              "      <td>2020-04-09</td>\n",
              "      <td>225594.383729</td>\n",
              "      <td>215738.700563</td>\n",
              "      <td>223517.655212</td>\n",
              "      <td>222513.520541</td>\n",
              "      <td>228410.442717</td>\n",
              "      <td>-6009.173271</td>\n",
              "      <td>-6009.173271</td>\n",
              "      <td>-6009.173271</td>\n",
              "      <td>-4662.849606</td>\n",
              "      <td>-4662.849606</td>\n",
              "      <td>-4662.849606</td>\n",
              "      <td>-1346.323665</td>\n",
              "      <td>-1346.323665</td>\n",
              "      <td>-1346.323665</td>\n",
              "      <td>0.0</td>\n",
              "      <td>0.0</td>\n",
              "      <td>0.0</td>\n",
              "      <td>219585.210458</td>\n",
              "    </tr>\n",
              "    <tr>\n",
              "      <th>71</th>\n",
              "      <td>2020-04-10</td>\n",
              "      <td>228820.882395</td>\n",
              "      <td>219715.974969</td>\n",
              "      <td>227936.479037</td>\n",
              "      <td>225545.749477</td>\n",
              "      <td>231749.003607</td>\n",
              "      <td>-4889.702989</td>\n",
              "      <td>-4889.702989</td>\n",
              "      <td>-4889.702989</td>\n",
              "      <td>-5567.154500</td>\n",
              "      <td>-5567.154500</td>\n",
              "      <td>-5567.154500</td>\n",
              "      <td>677.451511</td>\n",
              "      <td>677.451511</td>\n",
              "      <td>677.451511</td>\n",
              "      <td>0.0</td>\n",
              "      <td>0.0</td>\n",
              "      <td>0.0</td>\n",
              "      <td>223931.179406</td>\n",
              "    </tr>\n",
              "    <tr>\n",
              "      <th>72</th>\n",
              "      <td>2020-04-11</td>\n",
              "      <td>232047.381061</td>\n",
              "      <td>225378.637600</td>\n",
              "      <td>233649.866515</td>\n",
              "      <td>228581.214392</td>\n",
              "      <td>235133.475934</td>\n",
              "      <td>-2321.910151</td>\n",
              "      <td>-2321.910151</td>\n",
              "      <td>-2321.910151</td>\n",
              "      <td>-3945.797470</td>\n",
              "      <td>-3945.797470</td>\n",
              "      <td>-3945.797470</td>\n",
              "      <td>1623.887319</td>\n",
              "      <td>1623.887319</td>\n",
              "      <td>1623.887319</td>\n",
              "      <td>0.0</td>\n",
              "      <td>0.0</td>\n",
              "      <td>0.0</td>\n",
              "      <td>229725.470910</td>\n",
              "    </tr>\n",
              "    <tr>\n",
              "      <th>73</th>\n",
              "      <td>2020-04-12</td>\n",
              "      <td>235273.879727</td>\n",
              "      <td>232497.534994</td>\n",
              "      <td>240902.057915</td>\n",
              "      <td>231647.652382</td>\n",
              "      <td>238552.960487</td>\n",
              "      <td>1569.033110</td>\n",
              "      <td>1569.033110</td>\n",
              "      <td>1569.033110</td>\n",
              "      <td>249.130328</td>\n",
              "      <td>249.130328</td>\n",
              "      <td>249.130328</td>\n",
              "      <td>1319.902782</td>\n",
              "      <td>1319.902782</td>\n",
              "      <td>1319.902782</td>\n",
              "      <td>0.0</td>\n",
              "      <td>0.0</td>\n",
              "      <td>0.0</td>\n",
              "      <td>236842.912836</td>\n",
              "    </tr>\n",
              "    <tr>\n",
              "      <th>74</th>\n",
              "      <td>2020-04-13</td>\n",
              "      <td>238500.378393</td>\n",
              "      <td>240197.811293</td>\n",
              "      <td>249538.028548</td>\n",
              "      <td>234703.039969</td>\n",
              "      <td>241930.286810</td>\n",
              "      <td>6457.287221</td>\n",
              "      <td>6457.287221</td>\n",
              "      <td>6457.287221</td>\n",
              "      <td>5541.703211</td>\n",
              "      <td>5541.703211</td>\n",
              "      <td>5541.703211</td>\n",
              "      <td>915.584010</td>\n",
              "      <td>915.584010</td>\n",
              "      <td>915.584010</td>\n",
              "      <td>0.0</td>\n",
              "      <td>0.0</td>\n",
              "      <td>0.0</td>\n",
              "      <td>244957.665614</td>\n",
              "    </tr>\n",
              "  </tbody>\n",
              "</table>\n",
              "<p>75 rows × 19 columns</p>\n",
              "</div>"
            ],
            "text/plain": [
              "           ds          trend  ...  multiplicative_terms_upper           yhat\n",
              "0  2020-01-22   -2321.179282  ...                         0.0     174.528287\n",
              "1  2020-01-23     110.707653  ...                         0.0    -112.009460\n",
              "2  2020-01-24    2542.594588  ...                         0.0    1602.077712\n",
              "3  2020-01-25    4974.481523  ...                         0.0    3224.632947\n",
              "4  2020-01-26    7406.368460  ...                         0.0    4147.238676\n",
              "..        ...            ...  ...                         ...            ...\n",
              "70 2020-04-09  225594.383729  ...                         0.0  219585.210458\n",
              "71 2020-04-10  228820.882395  ...                         0.0  223931.179406\n",
              "72 2020-04-11  232047.381061  ...                         0.0  229725.470910\n",
              "73 2020-04-12  235273.879727  ...                         0.0  236842.912836\n",
              "74 2020-04-13  238500.378393  ...                         0.0  244957.665614\n",
              "\n",
              "[75 rows x 19 columns]"
            ]
          },
          "metadata": {
            "tags": []
          },
          "execution_count": 81
        }
      ]
    },
    {
      "cell_type": "code",
      "metadata": {
        "id": "O1dH2Ca1RR87",
        "colab_type": "code",
        "colab": {
          "base_uri": "https://localhost:8080/",
          "height": 865
        },
        "outputId": "47663dd7-6f3c-4adb-b3f1-2d5be89e8d32"
      },
      "source": [
        "m.plot(predication)"
      ],
      "execution_count": 82,
      "outputs": [
        {
          "output_type": "execute_result",
          "data": {
            "image/png": "[encoded data removed]",
            "text/plain": [
              "<Figure size 720x432 with 1 Axes>"
            ]
          },
          "metadata": {
            "tags": []
          },
          "execution_count": 82
        },
        {
          "output_type": "display_data",
          "data": {
            "image/png": "[encoded data removed]",
            "text/plain": [
              "<Figure size 720x432 with 1 Axes>"
            ]
          },
          "metadata": {
            "tags": []
          }
        }
      ]
    },
    {
      "cell_type": "code",
      "metadata": {
        "id": "HkNan4OiRZ4C",
        "colab_type": "code",
        "colab": {
          "base_uri": "https://localhost:8080/",
          "height": 1000
        },
        "outputId": "6d1fb6f1-8105-429d-8349-f50dda6c7a8a"
      },
      "source": [
        "m.plot_components(predication)"
      ],
      "execution_count": 83,
      "outputs": [
        {
          "output_type": "execute_result",
          "data": {
            "image/png": "[encoded data removed]",
            "text/plain": [
              "<Figure size 648x648 with 3 Axes>"
            ]
          },
          "metadata": {
            "tags": []
          },
          "execution_count": 83
        },
        {
          "output_type": "display_data",
          "data": {
            "image/png": "[encoded data removed]",
            "text/plain": [
              "<Figure size 648x648 with 3 Axes>"
            ]
          },
          "metadata": {
            "tags": []
          }
        }
      ]
    },
    {
      "cell_type": "code",
      "metadata": {
        "id": "gTAwFH8vRi5F",
        "colab_type": "code",
        "colab": {
          "base_uri": "https://localhost:8080/",
          "height": 195
        },
        "outputId": "32e26844-b244-4799-f7fb-5cc80219d79d"
      },
      "source": [
        "test.head()"
      ],
      "execution_count": 84,
      "outputs": [
        {
          "output_type": "execute_result",
          "data": {
            "text/html": [
              "<div>\n",
              "<style scoped>\n",
              "    .dataframe tbody tr th:only-of-type {\n",
              "        vertical-align: middle;\n",
              "    }\n",
              "\n",
              "    .dataframe tbody tr th {\n",
              "        vertical-align: top;\n",
              "    }\n",
              "\n",
              "    .dataframe thead th {\n",
              "        text-align: right;\n",
              "    }\n",
              "</style>\n",
              "<table border=\"1\" class=\"dataframe\">\n",
              "  <thead>\n",
              "    <tr style=\"text-align: right;\">\n",
              "      <th></th>\n",
              "      <th>ds</th>\n",
              "      <th>y</th>\n",
              "      <th>dates</th>\n",
              "    </tr>\n",
              "  </thead>\n",
              "  <tbody>\n",
              "    <tr>\n",
              "      <th>45</th>\n",
              "      <td>3/15/20</td>\n",
              "      <td>167454</td>\n",
              "      <td>2020-03-15</td>\n",
              "    </tr>\n",
              "    <tr>\n",
              "      <th>46</th>\n",
              "      <td>3/16/20</td>\n",
              "      <td>181574</td>\n",
              "      <td>2020-03-16</td>\n",
              "    </tr>\n",
              "    <tr>\n",
              "      <th>47</th>\n",
              "      <td>3/17/20</td>\n",
              "      <td>197102</td>\n",
              "      <td>2020-03-17</td>\n",
              "    </tr>\n",
              "    <tr>\n",
              "      <th>48</th>\n",
              "      <td>3/18/20</td>\n",
              "      <td>214821</td>\n",
              "      <td>2020-03-18</td>\n",
              "    </tr>\n",
              "    <tr>\n",
              "      <th>49</th>\n",
              "      <td>3/19/20</td>\n",
              "      <td>242570</td>\n",
              "      <td>2020-03-19</td>\n",
              "    </tr>\n",
              "  </tbody>\n",
              "</table>\n",
              "</div>"
            ],
            "text/plain": [
              "         ds       y      dates\n",
              "45  3/15/20  167454 2020-03-15\n",
              "46  3/16/20  181574 2020-03-16\n",
              "47  3/17/20  197102 2020-03-17\n",
              "48  3/18/20  214821 2020-03-18\n",
              "49  3/19/20  242570 2020-03-19"
            ]
          },
          "metadata": {
            "tags": []
          },
          "execution_count": 84
        }
      ]
    },
    {
      "cell_type": "code",
      "metadata": {
        "id": "QuvwXEypRvgM",
        "colab_type": "code",
        "colab": {
          "base_uri": "https://localhost:8080/",
          "height": 151
        },
        "outputId": "0893ed3a-521b-4b1f-edbd-024c1838a4fc"
      },
      "source": [
        "test[\"dates\"] = pd.to_datetime(test[\"ds\"])"
      ],
      "execution_count": 85,
      "outputs": [
        {
          "output_type": "stream",
          "text": [
            "/usr/local/lib/python3.6/dist-packages/ipykernel_launcher.py:1: SettingWithCopyWarning:\n",
            "\n",
            "\n",
            "A value is trying to be set on a copy of a slice from a DataFrame.\n",
            "Try using .loc[row_indexer,col_indexer] = value instead\n",
            "\n",
            "See the caveats in the documentation: https://pandas.pydata.org/pandas-docs/stable/user_guide/indexing.html#returning-a-view-versus-a-copy\n",
            "\n"
          ],
          "name": "stderr"
        }
      ]
    },
    {
      "cell_type": "code",
      "metadata": {
        "id": "km-Z8TnjR7ze",
        "colab_type": "code",
        "colab": {
          "base_uri": "https://localhost:8080/",
          "height": 1000
        },
        "outputId": "84070bf6-e8dc-472a-f0f2-baef4b3e574b"
      },
      "source": [
        "test"
      ],
      "execution_count": 86,
      "outputs": [
        {
          "output_type": "execute_result",
          "data": {
            "text/html": [
              "<div>\n",
              "<style scoped>\n",
              "    .dataframe tbody tr th:only-of-type {\n",
              "        vertical-align: middle;\n",
              "    }\n",
              "\n",
              "    .dataframe tbody tr th {\n",
              "        vertical-align: top;\n",
              "    }\n",
              "\n",
              "    .dataframe thead th {\n",
              "        text-align: right;\n",
              "    }\n",
              "</style>\n",
              "<table border=\"1\" class=\"dataframe\">\n",
              "  <thead>\n",
              "    <tr style=\"text-align: right;\">\n",
              "      <th></th>\n",
              "      <th>ds</th>\n",
              "      <th>y</th>\n",
              "      <th>dates</th>\n",
              "    </tr>\n",
              "  </thead>\n",
              "  <tbody>\n",
              "    <tr>\n",
              "      <th>45</th>\n",
              "      <td>3/15/20</td>\n",
              "      <td>167454</td>\n",
              "      <td>2020-03-15</td>\n",
              "    </tr>\n",
              "    <tr>\n",
              "      <th>46</th>\n",
              "      <td>3/16/20</td>\n",
              "      <td>181574</td>\n",
              "      <td>2020-03-16</td>\n",
              "    </tr>\n",
              "    <tr>\n",
              "      <th>47</th>\n",
              "      <td>3/17/20</td>\n",
              "      <td>197102</td>\n",
              "      <td>2020-03-17</td>\n",
              "    </tr>\n",
              "    <tr>\n",
              "      <th>48</th>\n",
              "      <td>3/18/20</td>\n",
              "      <td>214821</td>\n",
              "      <td>2020-03-18</td>\n",
              "    </tr>\n",
              "    <tr>\n",
              "      <th>49</th>\n",
              "      <td>3/19/20</td>\n",
              "      <td>242570</td>\n",
              "      <td>2020-03-19</td>\n",
              "    </tr>\n",
              "    <tr>\n",
              "      <th>50</th>\n",
              "      <td>3/2/20</td>\n",
              "      <td>90306</td>\n",
              "      <td>2020-03-02</td>\n",
              "    </tr>\n",
              "    <tr>\n",
              "      <th>51</th>\n",
              "      <td>3/20/20</td>\n",
              "      <td>272208</td>\n",
              "      <td>2020-03-20</td>\n",
              "    </tr>\n",
              "    <tr>\n",
              "      <th>52</th>\n",
              "      <td>3/21/20</td>\n",
              "      <td>304507</td>\n",
              "      <td>2020-03-21</td>\n",
              "    </tr>\n",
              "    <tr>\n",
              "      <th>53</th>\n",
              "      <td>3/22/20</td>\n",
              "      <td>336953</td>\n",
              "      <td>2020-03-22</td>\n",
              "    </tr>\n",
              "    <tr>\n",
              "      <th>54</th>\n",
              "      <td>3/23/20</td>\n",
              "      <td>378231</td>\n",
              "      <td>2020-03-23</td>\n",
              "    </tr>\n",
              "    <tr>\n",
              "      <th>55</th>\n",
              "      <td>3/24/20</td>\n",
              "      <td>418041</td>\n",
              "      <td>2020-03-24</td>\n",
              "    </tr>\n",
              "    <tr>\n",
              "      <th>56</th>\n",
              "      <td>3/25/20</td>\n",
              "      <td>467653</td>\n",
              "      <td>2020-03-25</td>\n",
              "    </tr>\n",
              "    <tr>\n",
              "      <th>57</th>\n",
              "      <td>3/26/20</td>\n",
              "      <td>529591</td>\n",
              "      <td>2020-03-26</td>\n",
              "    </tr>\n",
              "    <tr>\n",
              "      <th>58</th>\n",
              "      <td>3/27/20</td>\n",
              "      <td>593291</td>\n",
              "      <td>2020-03-27</td>\n",
              "    </tr>\n",
              "    <tr>\n",
              "      <th>59</th>\n",
              "      <td>3/28/20</td>\n",
              "      <td>660693</td>\n",
              "      <td>2020-03-28</td>\n",
              "    </tr>\n",
              "    <tr>\n",
              "      <th>60</th>\n",
              "      <td>3/29/20</td>\n",
              "      <td>720140</td>\n",
              "      <td>2020-03-29</td>\n",
              "    </tr>\n",
              "    <tr>\n",
              "      <th>61</th>\n",
              "      <td>3/3/20</td>\n",
              "      <td>92840</td>\n",
              "      <td>2020-03-03</td>\n",
              "    </tr>\n",
              "    <tr>\n",
              "      <th>62</th>\n",
              "      <td>3/30/20</td>\n",
              "      <td>782389</td>\n",
              "      <td>2020-03-30</td>\n",
              "    </tr>\n",
              "    <tr>\n",
              "      <th>63</th>\n",
              "      <td>3/31/20</td>\n",
              "      <td>857487</td>\n",
              "      <td>2020-03-31</td>\n",
              "    </tr>\n",
              "    <tr>\n",
              "      <th>64</th>\n",
              "      <td>3/4/20</td>\n",
              "      <td>95120</td>\n",
              "      <td>2020-03-04</td>\n",
              "    </tr>\n",
              "    <tr>\n",
              "      <th>65</th>\n",
              "      <td>3/5/20</td>\n",
              "      <td>97886</td>\n",
              "      <td>2020-03-05</td>\n",
              "    </tr>\n",
              "    <tr>\n",
              "      <th>66</th>\n",
              "      <td>3/6/20</td>\n",
              "      <td>101801</td>\n",
              "      <td>2020-03-06</td>\n",
              "    </tr>\n",
              "    <tr>\n",
              "      <th>67</th>\n",
              "      <td>3/7/20</td>\n",
              "      <td>105847</td>\n",
              "      <td>2020-03-07</td>\n",
              "    </tr>\n",
              "    <tr>\n",
              "      <th>68</th>\n",
              "      <td>3/8/20</td>\n",
              "      <td>109821</td>\n",
              "      <td>2020-03-08</td>\n",
              "    </tr>\n",
              "    <tr>\n",
              "      <th>69</th>\n",
              "      <td>3/9/20</td>\n",
              "      <td>113590</td>\n",
              "      <td>2020-03-09</td>\n",
              "    </tr>\n",
              "    <tr>\n",
              "      <th>70</th>\n",
              "      <td>4/1/20</td>\n",
              "      <td>932605</td>\n",
              "      <td>2020-04-01</td>\n",
              "    </tr>\n",
              "    <tr>\n",
              "      <th>71</th>\n",
              "      <td>4/10/20</td>\n",
              "      <td>1657526</td>\n",
              "      <td>2020-04-10</td>\n",
              "    </tr>\n",
              "    <tr>\n",
              "      <th>72</th>\n",
              "      <td>4/11/20</td>\n",
              "      <td>1735650</td>\n",
              "      <td>2020-04-11</td>\n",
              "    </tr>\n",
              "    <tr>\n",
              "      <th>73</th>\n",
              "      <td>4/12/20</td>\n",
              "      <td>1834721</td>\n",
              "      <td>2020-04-12</td>\n",
              "    </tr>\n",
              "    <tr>\n",
              "      <th>74</th>\n",
              "      <td>4/13/20</td>\n",
              "      <td>1904838</td>\n",
              "      <td>2020-04-13</td>\n",
              "    </tr>\n",
              "    <tr>\n",
              "      <th>75</th>\n",
              "      <td>4/14/20</td>\n",
              "      <td>1976191</td>\n",
              "      <td>2020-04-14</td>\n",
              "    </tr>\n",
              "    <tr>\n",
              "      <th>76</th>\n",
              "      <td>4/15/20</td>\n",
              "      <td>2056054</td>\n",
              "      <td>2020-04-15</td>\n",
              "    </tr>\n",
              "    <tr>\n",
              "      <th>77</th>\n",
              "      <td>4/16/20</td>\n",
              "      <td>2152437</td>\n",
              "      <td>2020-04-16</td>\n",
              "    </tr>\n",
              "    <tr>\n",
              "      <th>78</th>\n",
              "      <td>4/17/20</td>\n",
              "      <td>2240190</td>\n",
              "      <td>2020-04-17</td>\n",
              "    </tr>\n",
              "    <tr>\n",
              "      <th>79</th>\n",
              "      <td>4/18/20</td>\n",
              "      <td>2317758</td>\n",
              "      <td>2020-04-18</td>\n",
              "    </tr>\n",
              "    <tr>\n",
              "      <th>80</th>\n",
              "      <td>4/19/20</td>\n",
              "      <td>2401378</td>\n",
              "      <td>2020-04-19</td>\n",
              "    </tr>\n",
              "    <tr>\n",
              "      <th>81</th>\n",
              "      <td>4/2/20</td>\n",
              "      <td>1013466</td>\n",
              "      <td>2020-04-02</td>\n",
              "    </tr>\n",
              "    <tr>\n",
              "      <th>82</th>\n",
              "      <td>4/20/20</td>\n",
              "      <td>2472258</td>\n",
              "      <td>2020-04-20</td>\n",
              "    </tr>\n",
              "    <tr>\n",
              "      <th>83</th>\n",
              "      <td>4/3/20</td>\n",
              "      <td>1095917</td>\n",
              "      <td>2020-04-03</td>\n",
              "    </tr>\n",
              "    <tr>\n",
              "      <th>84</th>\n",
              "      <td>4/4/20</td>\n",
              "      <td>1176060</td>\n",
              "      <td>2020-04-04</td>\n",
              "    </tr>\n",
              "    <tr>\n",
              "      <th>85</th>\n",
              "      <td>4/5/20</td>\n",
              "      <td>1249754</td>\n",
              "      <td>2020-04-05</td>\n",
              "    </tr>\n",
              "    <tr>\n",
              "      <th>86</th>\n",
              "      <td>4/6/20</td>\n",
              "      <td>1321481</td>\n",
              "      <td>2020-04-06</td>\n",
              "    </tr>\n",
              "    <tr>\n",
              "      <th>87</th>\n",
              "      <td>4/7/20</td>\n",
              "      <td>1396476</td>\n",
              "      <td>2020-04-07</td>\n",
              "    </tr>\n",
              "    <tr>\n",
              "      <th>88</th>\n",
              "      <td>4/8/20</td>\n",
              "      <td>1480202</td>\n",
              "      <td>2020-04-08</td>\n",
              "    </tr>\n",
              "    <tr>\n",
              "      <th>89</th>\n",
              "      <td>4/9/20</td>\n",
              "      <td>1565278</td>\n",
              "      <td>2020-04-09</td>\n",
              "    </tr>\n",
              "  </tbody>\n",
              "</table>\n",
              "</div>"
            ],
            "text/plain": [
              "         ds        y      dates\n",
              "45  3/15/20   167454 2020-03-15\n",
              "46  3/16/20   181574 2020-03-16\n",
              "47  3/17/20   197102 2020-03-17\n",
              "48  3/18/20   214821 2020-03-18\n",
              "49  3/19/20   242570 2020-03-19\n",
              "50   3/2/20    90306 2020-03-02\n",
              "51  3/20/20   272208 2020-03-20\n",
              "52  3/21/20   304507 2020-03-21\n",
              "53  3/22/20   336953 2020-03-22\n",
              "54  3/23/20   378231 2020-03-23\n",
              "55  3/24/20   418041 2020-03-24\n",
              "56  3/25/20   467653 2020-03-25\n",
              "57  3/26/20   529591 2020-03-26\n",
              "58  3/27/20   593291 2020-03-27\n",
              "59  3/28/20   660693 2020-03-28\n",
              "60  3/29/20   720140 2020-03-29\n",
              "61   3/3/20    92840 2020-03-03\n",
              "62  3/30/20   782389 2020-03-30\n",
              "63  3/31/20   857487 2020-03-31\n",
              "64   3/4/20    95120 2020-03-04\n",
              "65   3/5/20    97886 2020-03-05\n",
              "66   3/6/20   101801 2020-03-06\n",
              "67   3/7/20   105847 2020-03-07\n",
              "68   3/8/20   109821 2020-03-08\n",
              "69   3/9/20   113590 2020-03-09\n",
              "70   4/1/20   932605 2020-04-01\n",
              "71  4/10/20  1657526 2020-04-10\n",
              "72  4/11/20  1735650 2020-04-11\n",
              "73  4/12/20  1834721 2020-04-12\n",
              "74  4/13/20  1904838 2020-04-13\n",
              "75  4/14/20  1976191 2020-04-14\n",
              "76  4/15/20  2056054 2020-04-15\n",
              "77  4/16/20  2152437 2020-04-16\n",
              "78  4/17/20  2240190 2020-04-17\n",
              "79  4/18/20  2317758 2020-04-18\n",
              "80  4/19/20  2401378 2020-04-19\n",
              "81   4/2/20  1013466 2020-04-02\n",
              "82  4/20/20  2472258 2020-04-20\n",
              "83   4/3/20  1095917 2020-04-03\n",
              "84   4/4/20  1176060 2020-04-04\n",
              "85   4/5/20  1249754 2020-04-05\n",
              "86   4/6/20  1321481 2020-04-06\n",
              "87   4/7/20  1396476 2020-04-07\n",
              "88   4/8/20  1480202 2020-04-08\n",
              "89   4/9/20  1565278 2020-04-09"
            ]
          },
          "metadata": {
            "tags": []
          },
          "execution_count": 86
        }
      ]
    },
    {
      "cell_type": "code",
      "metadata": {
        "id": "JOINkSuCR-ve",
        "colab_type": "code",
        "colab": {}
      },
      "source": [
        "test = test.set_index(\"dates\")"
      ],
      "execution_count": 0,
      "outputs": []
    },
    {
      "cell_type": "code",
      "metadata": {
        "id": "BR8azOY6SQx9",
        "colab_type": "code",
        "colab": {
          "base_uri": "https://localhost:8080/",
          "height": 1000
        },
        "outputId": "45081294-a2ba-4510-88cf-4ab32e04ffb8"
      },
      "source": [
        "test"
      ],
      "execution_count": 88,
      "outputs": [
        {
          "output_type": "execute_result",
          "data": {
            "text/html": [
              "<div>\n",
              "<style scoped>\n",
              "    .dataframe tbody tr th:only-of-type {\n",
              "        vertical-align: middle;\n",
              "    }\n",
              "\n",
              "    .dataframe tbody tr th {\n",
              "        vertical-align: top;\n",
              "    }\n",
              "\n",
              "    .dataframe thead th {\n",
              "        text-align: right;\n",
              "    }\n",
              "</style>\n",
              "<table border=\"1\" class=\"dataframe\">\n",
              "  <thead>\n",
              "    <tr style=\"text-align: right;\">\n",
              "      <th></th>\n",
              "      <th>ds</th>\n",
              "      <th>y</th>\n",
              "    </tr>\n",
              "    <tr>\n",
              "      <th>dates</th>\n",
              "      <th></th>\n",
              "      <th></th>\n",
              "    </tr>\n",
              "  </thead>\n",
              "  <tbody>\n",
              "    <tr>\n",
              "      <th>2020-03-15</th>\n",
              "      <td>3/15/20</td>\n",
              "      <td>167454</td>\n",
              "    </tr>\n",
              "    <tr>\n",
              "      <th>2020-03-16</th>\n",
              "      <td>3/16/20</td>\n",
              "      <td>181574</td>\n",
              "    </tr>\n",
              "    <tr>\n",
              "      <th>2020-03-17</th>\n",
              "      <td>3/17/20</td>\n",
              "      <td>197102</td>\n",
              "    </tr>\n",
              "    <tr>\n",
              "      <th>2020-03-18</th>\n",
              "      <td>3/18/20</td>\n",
              "      <td>214821</td>\n",
              "    </tr>\n",
              "    <tr>\n",
              "      <th>2020-03-19</th>\n",
              "      <td>3/19/20</td>\n",
              "      <td>242570</td>\n",
              "    </tr>\n",
              "    <tr>\n",
              "      <th>2020-03-02</th>\n",
              "      <td>3/2/20</td>\n",
              "      <td>90306</td>\n",
              "    </tr>\n",
              "    <tr>\n",
              "      <th>2020-03-20</th>\n",
              "      <td>3/20/20</td>\n",
              "      <td>272208</td>\n",
              "    </tr>\n",
              "    <tr>\n",
              "      <th>2020-03-21</th>\n",
              "      <td>3/21/20</td>\n",
              "      <td>304507</td>\n",
              "    </tr>\n",
              "    <tr>\n",
              "      <th>2020-03-22</th>\n",
              "      <td>3/22/20</td>\n",
              "      <td>336953</td>\n",
              "    </tr>\n",
              "    <tr>\n",
              "      <th>2020-03-23</th>\n",
              "      <td>3/23/20</td>\n",
              "      <td>378231</td>\n",
              "    </tr>\n",
              "    <tr>\n",
              "      <th>2020-03-24</th>\n",
              "      <td>3/24/20</td>\n",
              "      <td>418041</td>\n",
              "    </tr>\n",
              "    <tr>\n",
              "      <th>2020-03-25</th>\n",
              "      <td>3/25/20</td>\n",
              "      <td>467653</td>\n",
              "    </tr>\n",
              "    <tr>\n",
              "      <th>2020-03-26</th>\n",
              "      <td>3/26/20</td>\n",
              "      <td>529591</td>\n",
              "    </tr>\n",
              "    <tr>\n",
              "      <th>2020-03-27</th>\n",
              "      <td>3/27/20</td>\n",
              "      <td>593291</td>\n",
              "    </tr>\n",
              "    <tr>\n",
              "      <th>2020-03-28</th>\n",
              "      <td>3/28/20</td>\n",
              "      <td>660693</td>\n",
              "    </tr>\n",
              "    <tr>\n",
              "      <th>2020-03-29</th>\n",
              "      <td>3/29/20</td>\n",
              "      <td>720140</td>\n",
              "    </tr>\n",
              "    <tr>\n",
              "      <th>2020-03-03</th>\n",
              "      <td>3/3/20</td>\n",
              "      <td>92840</td>\n",
              "    </tr>\n",
              "    <tr>\n",
              "      <th>2020-03-30</th>\n",
              "      <td>3/30/20</td>\n",
              "      <td>782389</td>\n",
              "    </tr>\n",
              "    <tr>\n",
              "      <th>2020-03-31</th>\n",
              "      <td>3/31/20</td>\n",
              "      <td>857487</td>\n",
              "    </tr>\n",
              "    <tr>\n",
              "      <th>2020-03-04</th>\n",
              "      <td>3/4/20</td>\n",
              "      <td>95120</td>\n",
              "    </tr>\n",
              "    <tr>\n",
              "      <th>2020-03-05</th>\n",
              "      <td>3/5/20</td>\n",
              "      <td>97886</td>\n",
              "    </tr>\n",
              "    <tr>\n",
              "      <th>2020-03-06</th>\n",
              "      <td>3/6/20</td>\n",
              "      <td>101801</td>\n",
              "    </tr>\n",
              "    <tr>\n",
              "      <th>2020-03-07</th>\n",
              "      <td>3/7/20</td>\n",
              "      <td>105847</td>\n",
              "    </tr>\n",
              "    <tr>\n",
              "      <th>2020-03-08</th>\n",
              "      <td>3/8/20</td>\n",
              "      <td>109821</td>\n",
              "    </tr>\n",
              "    <tr>\n",
              "      <th>2020-03-09</th>\n",
              "      <td>3/9/20</td>\n",
              "      <td>113590</td>\n",
              "    </tr>\n",
              "    <tr>\n",
              "      <th>2020-04-01</th>\n",
              "      <td>4/1/20</td>\n",
              "      <td>932605</td>\n",
              "    </tr>\n",
              "    <tr>\n",
              "      <th>2020-04-10</th>\n",
              "      <td>4/10/20</td>\n",
              "      <td>1657526</td>\n",
              "    </tr>\n",
              "    <tr>\n",
              "      <th>2020-04-11</th>\n",
              "      <td>4/11/20</td>\n",
              "      <td>1735650</td>\n",
              "    </tr>\n",
              "    <tr>\n",
              "      <th>2020-04-12</th>\n",
              "      <td>4/12/20</td>\n",
              "      <td>1834721</td>\n",
              "    </tr>\n",
              "    <tr>\n",
              "      <th>2020-04-13</th>\n",
              "      <td>4/13/20</td>\n",
              "      <td>1904838</td>\n",
              "    </tr>\n",
              "    <tr>\n",
              "      <th>2020-04-14</th>\n",
              "      <td>4/14/20</td>\n",
              "      <td>1976191</td>\n",
              "    </tr>\n",
              "    <tr>\n",
              "      <th>2020-04-15</th>\n",
              "      <td>4/15/20</td>\n",
              "      <td>2056054</td>\n",
              "    </tr>\n",
              "    <tr>\n",
              "      <th>2020-04-16</th>\n",
              "      <td>4/16/20</td>\n",
              "      <td>2152437</td>\n",
              "    </tr>\n",
              "    <tr>\n",
              "      <th>2020-04-17</th>\n",
              "      <td>4/17/20</td>\n",
              "      <td>2240190</td>\n",
              "    </tr>\n",
              "    <tr>\n",
              "      <th>2020-04-18</th>\n",
              "      <td>4/18/20</td>\n",
              "      <td>2317758</td>\n",
              "    </tr>\n",
              "    <tr>\n",
              "      <th>2020-04-19</th>\n",
              "      <td>4/19/20</td>\n",
              "      <td>2401378</td>\n",
              "    </tr>\n",
              "    <tr>\n",
              "      <th>2020-04-02</th>\n",
              "      <td>4/2/20</td>\n",
              "      <td>1013466</td>\n",
              "    </tr>\n",
              "    <tr>\n",
              "      <th>2020-04-20</th>\n",
              "      <td>4/20/20</td>\n",
              "      <td>2472258</td>\n",
              "    </tr>\n",
              "    <tr>\n",
              "      <th>2020-04-03</th>\n",
              "      <td>4/3/20</td>\n",
              "      <td>1095917</td>\n",
              "    </tr>\n",
              "    <tr>\n",
              "      <th>2020-04-04</th>\n",
              "      <td>4/4/20</td>\n",
              "      <td>1176060</td>\n",
              "    </tr>\n",
              "    <tr>\n",
              "      <th>2020-04-05</th>\n",
              "      <td>4/5/20</td>\n",
              "      <td>1249754</td>\n",
              "    </tr>\n",
              "    <tr>\n",
              "      <th>2020-04-06</th>\n",
              "      <td>4/6/20</td>\n",
              "      <td>1321481</td>\n",
              "    </tr>\n",
              "    <tr>\n",
              "      <th>2020-04-07</th>\n",
              "      <td>4/7/20</td>\n",
              "      <td>1396476</td>\n",
              "    </tr>\n",
              "    <tr>\n",
              "      <th>2020-04-08</th>\n",
              "      <td>4/8/20</td>\n",
              "      <td>1480202</td>\n",
              "    </tr>\n",
              "    <tr>\n",
              "      <th>2020-04-09</th>\n",
              "      <td>4/9/20</td>\n",
              "      <td>1565278</td>\n",
              "    </tr>\n",
              "  </tbody>\n",
              "</table>\n",
              "</div>"
            ],
            "text/plain": [
              "                 ds        y\n",
              "dates                       \n",
              "2020-03-15  3/15/20   167454\n",
              "2020-03-16  3/16/20   181574\n",
              "2020-03-17  3/17/20   197102\n",
              "2020-03-18  3/18/20   214821\n",
              "2020-03-19  3/19/20   242570\n",
              "2020-03-02   3/2/20    90306\n",
              "2020-03-20  3/20/20   272208\n",
              "2020-03-21  3/21/20   304507\n",
              "2020-03-22  3/22/20   336953\n",
              "2020-03-23  3/23/20   378231\n",
              "2020-03-24  3/24/20   418041\n",
              "2020-03-25  3/25/20   467653\n",
              "2020-03-26  3/26/20   529591\n",
              "2020-03-27  3/27/20   593291\n",
              "2020-03-28  3/28/20   660693\n",
              "2020-03-29  3/29/20   720140\n",
              "2020-03-03   3/3/20    92840\n",
              "2020-03-30  3/30/20   782389\n",
              "2020-03-31  3/31/20   857487\n",
              "2020-03-04   3/4/20    95120\n",
              "2020-03-05   3/5/20    97886\n",
              "2020-03-06   3/6/20   101801\n",
              "2020-03-07   3/7/20   105847\n",
              "2020-03-08   3/8/20   109821\n",
              "2020-03-09   3/9/20   113590\n",
              "2020-04-01   4/1/20   932605\n",
              "2020-04-10  4/10/20  1657526\n",
              "2020-04-11  4/11/20  1735650\n",
              "2020-04-12  4/12/20  1834721\n",
              "2020-04-13  4/13/20  1904838\n",
              "2020-04-14  4/14/20  1976191\n",
              "2020-04-15  4/15/20  2056054\n",
              "2020-04-16  4/16/20  2152437\n",
              "2020-04-17  4/17/20  2240190\n",
              "2020-04-18  4/18/20  2317758\n",
              "2020-04-19  4/19/20  2401378\n",
              "2020-04-02   4/2/20  1013466\n",
              "2020-04-20  4/20/20  2472258\n",
              "2020-04-03   4/3/20  1095917\n",
              "2020-04-04   4/4/20  1176060\n",
              "2020-04-05   4/5/20  1249754\n",
              "2020-04-06   4/6/20  1321481\n",
              "2020-04-07   4/7/20  1396476\n",
              "2020-04-08   4/8/20  1480202\n",
              "2020-04-09   4/9/20  1565278"
            ]
          },
          "metadata": {
            "tags": []
          },
          "execution_count": 88
        }
      ]
    },
    {
      "cell_type": "code",
      "metadata": {
        "id": "HwZYAurCSRSF",
        "colab_type": "code",
        "colab": {}
      },
      "source": [
        "test = test[\"y\"]"
      ],
      "execution_count": 0,
      "outputs": []
    },
    {
      "cell_type": "code",
      "metadata": {
        "id": "jNR_rPyfSWeD",
        "colab_type": "code",
        "colab": {
          "base_uri": "https://localhost:8080/",
          "height": 313
        },
        "outputId": "25787300-5018-488f-bea1-a5eafa7da6d2"
      },
      "source": [
        "test.plot()"
      ],
      "execution_count": 90,
      "outputs": [
        {
          "output_type": "execute_result",
          "data": {
            "text/plain": [
              "<matplotlib.axes._subplots.AxesSubplot at 0x7fbea683fe48>"
            ]
          },
          "metadata": {
            "tags": []
          },
          "execution_count": 90
        },
        {
          "output_type": "display_data",
          "data": {
            "image/png": "[encoded data removed]",
            "text/plain": [
              "<Figure size 432x288 with 1 Axes>"
            ]
          },
          "metadata": {
            "tags": [],
            "needs_background": "light"
          }
        }
      ]
    },
    {
      "cell_type": "code",
      "metadata": {
        "id": "JGK-BfX0SbMj",
        "colab_type": "code",
        "colab": {}
      },
      "source": [
        "from fbprophet.plot import add_changepoints_to_plot"
      ],
      "execution_count": 0,
      "outputs": []
    },
    {
      "cell_type": "code",
      "metadata": {
        "id": "BRSapHLBSmuy",
        "colab_type": "code",
        "colab": {
          "base_uri": "https://localhost:8080/",
          "height": 441
        },
        "outputId": "d7debb52-1177-45ae-d566-5ae44affd8c4"
      },
      "source": [
        "fig = m.plot(predication)\n",
        "c = add_changepoints_to_plot(fig.gca(),m,predication)"
      ],
      "execution_count": 93,
      "outputs": [
        {
          "output_type": "display_data",
          "data": {
            "image/png": "[encoded data removed]",
            "text/plain": [
              "<Figure size 720x432 with 1 Axes>"
            ]
          },
          "metadata": {
            "tags": []
          }
        }
      ]
    },
    {
      "cell_type": "code",
      "metadata": {
        "id": "wuSVAKy7SqT6",
        "colab_type": "code",
        "colab": {}
      },
      "source": [
        ""
      ],
      "execution_count": 0,
      "outputs": []
    }
  ]
}